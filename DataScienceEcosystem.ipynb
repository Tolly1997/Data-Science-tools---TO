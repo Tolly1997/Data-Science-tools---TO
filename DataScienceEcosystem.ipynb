{
 "cells": [
  {
   "cell_type": "markdown",
   "id": "90ed42ae",
   "metadata": {},
   "source": [
    "# Data Science Tools and Ecosystem"
   ]
  },
  {
   "cell_type": "markdown",
   "id": "5d169ddd",
   "metadata": {},
   "source": [
    "In this notebook, Data Science Tools and Ecosystem are summarized"
   ]
  },
  {
   "cell_type": "markdown",
   "id": "8d541e47",
   "metadata": {},
   "source": [
    "Some of the popular languages are:\n",
    "    \n",
    "- Python\n",
    "- R\n",
    "- SQL"
   ]
  },
  {
   "cell_type": "markdown",
   "id": "dc514f58",
   "metadata": {},
   "source": [
    "Some of the commonly used libraries by data science include:\n",
    "\n",
    "* pandas\n",
    "* NumPy\n",
    "* ggplot2"
   ]
  },
  {
   "cell_type": "markdown",
   "id": "df5eb708",
   "metadata": {},
   "source": [
    "\n",
    "\n",
    "|Data Science Tools|\n",
    "|------------------|\n",
    "|R-Studio|\n",
    "|Watson Studio|\n",
    "|Jupyter notebook|"
   ]
  },
  {
   "cell_type": "markdown",
   "id": "56278ef6",
   "metadata": {},
   "source": [
    "### H3: Below are a few examples of evaluating arithmetic expressions in Python\n",
    "\n",
    "$\\frac{2}{3}$"
   ]
  },
  {
   "cell_type": "code",
   "execution_count": 5,
   "id": "d057c611",
   "metadata": {},
   "outputs": [
    {
     "data": {
      "text/plain": [
       "17"
      ]
     },
     "execution_count": 5,
     "metadata": {},
     "output_type": "execute_result"
    }
   ],
   "source": [
    "# This a simple arithmetic expression to mutiply then add integers\n",
    "\n",
    "3*4+5"
   ]
  },
  {
   "cell_type": "code",
   "execution_count": 1,
   "id": "784bef6a",
   "metadata": {},
   "outputs": [
    {
     "name": "stdout",
     "output_type": "stream",
     "text": [
      "2.0\n"
     ]
    }
   ],
   "source": [
    "# This will convert 200 minutes to hours by diving by 60\n",
    "minute = 200\n",
    "\n",
    "hours = minute / 60\n",
    "\n",
    "print(hours)"
   ]
  },
  {
   "cell_type": "markdown",
   "id": "3beec88a",
   "metadata": {},
   "source": [
    "## The objectives of this course and assignment includes:\n",
    "- To demonstrate our understanding of the vaious data science tools used for various functions and list popular data science languages\n",
    "- Practice how to use R and python in IDEs\n",
    "- introduction to visualizing datasets using either ggplot2 in r or matplotlib in python"
   ]
  },
  {
   "cell_type": "markdown",
   "id": "e0394240",
   "metadata": {},
   "source": [
    "## Author \n",
    "Tolani Oshinusi"
   ]
  },
  {
   "cell_type": "code",
   "execution_count": null,
   "id": "d85c6ab4",
   "metadata": {},
   "outputs": [],
   "source": []
  }
 ],
 "metadata": {
  "kernelspec": {
   "display_name": "Python 3 (ipykernel)",
   "language": "python",
   "name": "python3"
  },
  "language_info": {
   "codemirror_mode": {
    "name": "ipython",
    "version": 3
   },
   "file_extension": ".py",
   "mimetype": "text/x-python",
   "name": "python",
   "nbconvert_exporter": "python",
   "pygments_lexer": "ipython3",
   "version": "3.9.12"
  }
 },
 "nbformat": 4,
 "nbformat_minor": 5
}
